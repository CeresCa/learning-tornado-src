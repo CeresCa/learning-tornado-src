{
 "cells": [
  {
   "cell_type": "markdown",
   "metadata": {},
   "source": [
    "# 简介\n",
    "非阻塞socket的I/O事件循环（使用水平触发的I/O多路复用），Python3上，tornado ioloop是对asyncio中ioloop的封装，\n",
    "在python2时，使用epoll或者kqueue实现，如果都不可用，回退到select系统调用。\n",
    "\n",
    "典型demo如下："
   ]
  },
  {
   "cell_type": "markdown",
   "metadata": {},
   "source": [
    "```python\n",
    "import asyncio\n",
    "import logging\n",
    "\n",
    "import tornado.httpclient\n",
    "import tornado.httpserver\n",
    "import tornado.log\n",
    "import tornado.options\n",
    "import tornado.web\n",
    "\n",
    "\n",
    "class AsyncHttpHandler(tornado.web.RequestHandler):\n",
    "    def get(self):\n",
    "        self.finish(\"hello\")\n",
    "\n",
    "\n",
    "def make_app():\n",
    "    return tornado.web.Application(\n",
    "        handlers=[(r\"/\", AsyncHttpHandler)],\n",
    "        debug=True)\n",
    "\n",
    "\n",
    "if __name__ == '__main__':\n",
    "    tornado.options.parse_command_line()\n",
    "    app = make_app()\n",
    "    server = tornado.httpserver.HTTPServer(app, xheaders=True)\n",
    "    server.listen(8888)\n",
    "    tornado.ioloop.IOLoop.current().start()\n",
    "```"
   ]
  },
  {
   "cell_type": "markdown",
   "metadata": {},
   "source": [
    "# ioloop 实例\n",
    "\n"
   ]
  },
  {
   "cell_type": "markdown",
   "metadata": {},
   "source": [
    "python2中，ioloop绑定到当前线程，python3中，委托给asyncio创建\n",
    "\n",
    "\n",
    "```python\n",
    "\n",
    "    # In Python 2, _current.instance points to the current IOLoop.\n",
    "    _current = threading.local()\n",
    "\n",
    "    # In Python 3, _ioloop_for_asyncio maps from asyncio loops to IOLoops.\n",
    "    _ioloop_for_asyncio = dict()\n",
    "\n",
    "    @staticmethod\n",
    "    def current(instance=True):\n",
    "        \"\"\"Returns the current thread's `IOLoop`.\n",
    "\n",
    "        If an `IOLoop` is currently running or has been marked as\n",
    "        current by `make_current`, returns that instance.  If there is\n",
    "        no current `IOLoop` and ``instance`` is true, creates one.\n",
    "\n",
    "        .. versionchanged:: 4.1\n",
    "           Added ``instance`` argument to control the fallback to\n",
    "           `IOLoop.instance()`.\n",
    "        .. versionchanged:: 5.0\n",
    "           On Python 3, control of the current `IOLoop` is delegated\n",
    "           to `asyncio`, with this and other methods as pass-through accessors.\n",
    "           The ``instance`` argument now controls whether an `IOLoop`\n",
    "           is created automatically when there is none, instead of\n",
    "           whether we fall back to `IOLoop.instance()` (which is now\n",
    "           an alias for this method). ``instance=False`` is deprecated,\n",
    "           since even if we do not create an `IOLoop`, this method\n",
    "           may initialize the asyncio loop.\n",
    "        \"\"\"\n",
    "        if asyncio is None:\n",
    "            current = getattr(IOLoop._current, \"instance\", None)\n",
    "            if current is None and instance:\n",
    "                current = IOLoop()\n",
    "                if IOLoop._current.instance is not current:\n",
    "                    raise RuntimeError(\"new IOLoop did not become current\")\n",
    "        else:\n",
    "            try:\n",
    "                loop = asyncio.get_event_loop()\n",
    "            except (RuntimeError, AssertionError):\n",
    "                if not instance:\n",
    "                    return None\n",
    "                raise\n",
    "            try:\n",
    "                return IOLoop._ioloop_for_asyncio[loop]\n",
    "            except KeyError:\n",
    "                if instance:\n",
    "                    from tornado.platform.asyncio import AsyncIOMainLoop\n",
    "                    current = AsyncIOMainLoop(make_current=True)\n",
    "                else:\n",
    "                    current = None\n",
    "        return current\n",
    "```"
   ]
  },
  {
   "cell_type": "code",
   "execution_count": null,
   "metadata": {},
   "outputs": [],
   "source": []
  }
 ],
 "metadata": {
  "kernelspec": {
   "display_name": "Python 3",
   "language": "python",
   "name": "python3"
  },
  "language_info": {
   "codemirror_mode": {
    "name": "ipython",
    "version": 3
   },
   "file_extension": ".py",
   "mimetype": "text/x-python",
   "name": "python",
   "nbconvert_exporter": "python",
   "pygments_lexer": "ipython3",
   "version": "3.7.0"
  }
 },
 "nbformat": 4,
 "nbformat_minor": 2
}
