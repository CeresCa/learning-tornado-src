{
 "cells": [
  {
   "cell_type": "markdown",
   "metadata": {},
   "source": [
    "# 简介\n",
    "Tornado是一个Python web框架，也是异步网络库，通过使用非阻塞IO，它可以轻松处理C10K问题，对于长轮询、WebSocket等长链接的开发，也比较容易。"
   ]
  },
  {
   "cell_type": "markdown",
   "metadata": {},
   "source": [
    "# 目录结构\n",
    "\n",
    "tornado作为web框架和异步网络库，代码量较多，所以在分析tornado源码时，可以选取一些比较重要的模块来阅读，比如：\n",
    "concurrent.py, gen.py, httpserver.py, ioloop.py, iostream.py, web.py等\n",
    "\n",
    "\n",
    "```bash\n",
    "➜  tornado git:(branch5.1) ✗ tree -I '*test|*__pycache__'\n",
    ".\n",
    "├── auth.py\n",
    "├── autoreload.py\n",
    "├── concurrent.py\n",
    "├── curl_httpclient.py\n",
    "├── escape.py\n",
    "├── gen.py\n",
    "├── http1connection.py\n",
    "├── httpclient.py\n",
    "├── httpserver.py\n",
    "├── httputil.py\n",
    "├── __init__.py\n",
    "├── ioloop.py\n",
    "├── iostream.py\n",
    "├── _locale_data.py\n",
    "├── locale.py\n",
    "├── locks.py\n",
    "├── log.py\n",
    "├── netutil.py\n",
    "├── options.py\n",
    "├── platform\n",
    "│   ├── asyncio.py\n",
    "│   ├── auto.py\n",
    "│   ├── auto.pyi\n",
    "│   ├── caresresolver.py\n",
    "│   ├── common.py\n",
    "│   ├── epoll.py\n",
    "│   ├── __init__.py\n",
    "│   ├── interface.py\n",
    "│   ├── kqueue.py\n",
    "│   ├── posix.py\n",
    "│   ├── select.py\n",
    "│   ├── twisted.py\n",
    "│   └── windows.py\n",
    "├── process.py\n",
    "├── queues.py\n",
    "├── routing.py\n",
    "├── simple_httpclient.py\n",
    "├── speedups.c\n",
    "├── speedups.pyi\n",
    "├── stack_context.py\n",
    "├── tcpclient.py\n",
    "├── tcpserver.py\n",
    "├── template.py\n",
    "├── testing.py\n",
    "├── util.py\n",
    "├── web.py\n",
    "├── websocket.py\n",
    "└── wsgi.py\n",
    "```"
   ]
  },
  {
   "cell_type": "code",
   "execution_count": null,
   "metadata": {},
   "outputs": [],
   "source": []
  }
 ],
 "metadata": {
  "kernelspec": {
   "display_name": "Python 3",
   "language": "python",
   "name": "python3"
  },
  "language_info": {
   "codemirror_mode": {
    "name": "ipython",
    "version": 3
   },
   "file_extension": ".py",
   "mimetype": "text/x-python",
   "name": "python",
   "nbconvert_exporter": "python",
   "pygments_lexer": "ipython3",
   "version": "3.7.0"
  }
 },
 "nbformat": 4,
 "nbformat_minor": 2
}
